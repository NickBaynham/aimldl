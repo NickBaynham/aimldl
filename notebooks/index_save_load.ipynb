{
 "cells": [
  {
   "cell_type": "code",
   "execution_count": 4,
   "metadata": {},
   "outputs": [
    {
     "name": "stdout",
     "output_type": "stream",
     "text": [
      "5\n"
     ]
    }
   ],
   "source": [
    "import numpy as np\n",
    "matrix = np.array([[1,2,3],[4,5,6],[7,8,9]])\n",
    "print(matrix[1][1])"
   ]
  },
  {
   "cell_type": "code",
   "execution_count": 7,
   "metadata": {},
   "outputs": [
    {
     "name": "stdout",
     "output_type": "stream",
     "text": [
      "[ 2.1069342  -1.92944909 -0.48977003 -0.40508678 -0.96823475  0.19294954\n",
      " -1.00773243 -0.52506528  0.77631456  1.87217193 -0.04670381 -0.11593947\n",
      " -0.5757353   0.56117692 -1.75799126]\n",
      "[ True False False False False  True False False  True  True False False\n",
      " False  True False]\n"
     ]
    }
   ],
   "source": [
    "rand_vec = np.random.randn(15)\n",
    "print(rand_vec)\n",
    "print(rand_vec > 0)"
   ]
  },
  {
   "cell_type": "code",
   "execution_count": 8,
   "metadata": {},
   "outputs": [
    {
     "name": "stdout",
     "output_type": "stream",
     "text": [
      "[ 7  8  9 10]\n"
     ]
    }
   ],
   "source": [
    "vec = np.array([4,7,8,9,10,6,1])\n",
    "print(vec[vec>6])"
   ]
  },
  {
   "cell_type": "code",
   "execution_count": 9,
   "metadata": {},
   "outputs": [
    {
     "name": "stdout",
     "output_type": "stream",
     "text": [
      "[4 2 2 2 2 6 1]\n"
     ]
    }
   ],
   "source": [
    "vec1 = np.array([4, 7, 8, 9, 10, 6, 1])\n",
    "vec1[vec1>6] = 2\n",
    "print(vec1)"
   ]
  },
  {
   "cell_type": "code",
   "execution_count": null,
   "metadata": {},
   "outputs": [],
   "source": []
  }
 ],
 "metadata": {
  "kernelspec": {
   "display_name": "Python 3",
   "language": "python",
   "name": "python3"
  },
  "language_info": {
   "codemirror_mode": {
    "name": "ipython",
    "version": 3
   },
   "file_extension": ".py",
   "mimetype": "text/x-python",
   "name": "python",
   "nbconvert_exporter": "python",
   "pygments_lexer": "ipython3",
   "version": "3.7.7"
  }
 },
 "nbformat": 4,
 "nbformat_minor": 4
}
