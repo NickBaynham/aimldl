{
 "cells": [
  {
   "cell_type": "markdown",
   "metadata": {},
   "source": [
    "# NumPy\n",
    "\n",
    "numpy is python's package for doing math that is more advanced than +-*/\n",
    "\n",
    "This includes special functions like cosine, exponential, sqrt, ...\n",
    "\n",
    "On top of this we can use numpy to generate samples from many types of random variables\n",
    "\n",
    "numpy also has a powerful data type to define vectors, matrices, and tensors\n",
    "\n",
    "With these data types numpy also allows us to do linear algebra - matrix multiplication and matrix-vector solutions"
   ]
  },
  {
   "cell_type": "code",
   "execution_count": 1,
   "metadata": {},
   "outputs": [],
   "source": [
    "# the first step of using numpy is to tell python to use it\n",
    "import numpy as np"
   ]
  },
  {
   "cell_type": "code",
   "execution_count": 2,
   "metadata": {},
   "outputs": [
    {
     "name": "stdout",
     "output_type": "stream",
     "text": [
      "-1.0\n",
      "1.1\n",
      "5.2\n"
     ]
    }
   ],
   "source": [
    "print(np.cos(np.pi))\n",
    "print(np.sqrt(1.21))\n",
    "print(np.log(np.exp(5.2)))"
   ]
  },
  {
   "cell_type": "code",
   "execution_count": 8,
   "metadata": {},
   "outputs": [
    {
     "name": "stdout",
     "output_type": "stream",
     "text": [
      "[1, 2, 3]\n",
      "<class 'list'>\n",
      "[1 2 3]\n",
      "<class 'numpy.ndarray'>\n"
     ]
    }
   ],
   "source": [
    "# we can create numpy arrays by converting lists\n",
    "# this is a vector\n",
    "my_list = [1, 2, 3]\n",
    "print(my_list)\n",
    "print(type(my_list))\n",
    "vec = np.array(my_list)\n",
    "print(vec)\n",
    "print(type(vec))"
   ]
  },
  {
   "cell_type": "code",
   "execution_count": 7,
   "metadata": {},
   "outputs": [],
   "source": [
    "# we can create matrices by converting lists of lists\n",
    "mat = np.array([[1,2,1],[4,5,9],[1,8,9]])\n",
    "print('')\n",
    "print(mat)\n",
    "print('')\n",
    "print(mat.T)"
   ]
  },
  {
   "cell_type": "code",
   "execution_count": 7,
   "metadata": {},
   "outputs": [
    {
     "name": "stdout",
     "output_type": "stream",
     "text": [
      "[1, 2, 3]\n",
      "<class 'list'>\n",
      "[1 2 3]\n",
      "<class 'numpy.ndarray'>\n",
      "\n",
      "[[1 2 1]\n",
      " [4 5 9]\n",
      " [1 8 9]]\n",
      "\n",
      "[[1 4 1]\n",
      " [2 5 8]\n",
      " [1 9 9]]\n"
     ]
    }
   ],
   "source": []
  },
  {
   "cell_type": "code",
   "execution_count": 9,
   "metadata": {},
   "outputs": [
    {
     "name": "stdout",
     "output_type": "stream",
     "text": [
      "[ 0  1  2  3  4  5  6  7  8  9 10 11 12 13 14]\n",
      "\n",
      "[ 3  9 15]\n"
     ]
    }
   ],
   "source": [
    "# there are lots of other ways to create numpy arrays\n",
    "vec2 = np.arange(0,15) # starting with 0, before 15\n",
    "print(vec2)\n",
    "print('')\n",
    "vec3 = np.arange(3,21,6) # start with 3 and less than 21 step 6\n",
    "print(vec3)"
   ]
  },
  {
   "cell_type": "code",
   "execution_count": 11,
   "metadata": {},
   "outputs": [
    {
     "name": "stdout",
     "output_type": "stream",
     "text": [
      "[0.         0.55555556 1.11111111 1.66666667 2.22222222 2.77777778\n",
      " 3.33333333 3.88888889 4.44444444 5.        ]\n",
      "\n",
      "[[0.         0.55555556]\n",
      " [1.11111111 1.66666667]\n",
      " [2.22222222 2.77777778]\n",
      " [3.33333333 3.88888889]\n",
      " [4.44444444 5.        ]]\n"
     ]
    }
   ],
   "source": [
    "vec4 = np.linspace(0,5,10)\n",
    "print(vec4)\n",
    "print('')\n",
    "print(vec4.reshape(5,2))"
   ]
  },
  {
   "cell_type": "code",
   "execution_count": 12,
   "metadata": {},
   "outputs": [
    {
     "name": "stdout",
     "output_type": "stream",
     "text": [
      "[[0.         0.55555556]\n",
      " [1.11111111 1.66666667]\n",
      " [2.22222222 2.77777778]\n",
      " [3.33333333 3.88888889]\n",
      " [4.44444444 5.        ]]\n",
      "[0.         0.55555556 1.11111111 1.66666667 2.22222222 2.77777778\n",
      " 3.33333333 3.88888889 4.44444444 5.        ]\n"
     ]
    }
   ],
   "source": [
    "vec4_reshaped = vec4.reshape(5,2)\n",
    "print(vec4_reshaped)\n",
    "print(vec4)"
   ]
  },
  {
   "cell_type": "code",
   "execution_count": 13,
   "metadata": {},
   "outputs": [
    {
     "name": "stdout",
     "output_type": "stream",
     "text": [
      "[[0. 0. 0.]\n",
      " [0. 0. 0.]\n",
      " [0. 0. 0.]\n",
      " [0. 0. 0.]\n",
      " [0. 0. 0.]]\n",
      "\n",
      "[[1. 1. 1. 1. 1.]\n",
      " [1. 1. 1. 1. 1.]\n",
      " [1. 1. 1. 1. 1.]]\n",
      "\n",
      "[[1. 0. 0. 0. 0.]\n",
      " [0. 1. 0. 0. 0.]\n",
      " [0. 0. 1. 0. 0.]\n",
      " [0. 0. 0. 1. 0.]\n",
      " [0. 0. 0. 0. 1.]]\n"
     ]
    }
   ],
   "source": [
    "mat2 = np.zeros([5,3])\n",
    "print(mat2)\n",
    "mat3 = np.ones((3,5))\n",
    "print('')\n",
    "print(mat3)\n",
    "mat4 = np.eye(5)\n",
    "print('')\n",
    "print(mat4)"
   ]
  },
  {
   "cell_type": "code",
   "execution_count": 14,
   "metadata": {},
   "outputs": [
    {
     "name": "stdout",
     "output_type": "stream",
     "text": [
      "[1 2 3 4 5]\n",
      "[3 4 5 6 7]\n",
      "[ 4  6  8 10 12]\n",
      "[ 3  8 15 24 35]\n",
      "[1.         0.5        0.33333333 0.25       0.2       ]\n",
      "[1.73205081 2.         2.23606798 2.44948974 2.64575131]\n"
     ]
    }
   ],
   "source": [
    "# we can +-*/ arrays together if they're the right size\n",
    "vec5 = np.arange(1,6)\n",
    "vec6 = np.arange(3,8)\n",
    "print(vec5)\n",
    "print(vec6)\n",
    "print(vec5+vec6)\n",
    "print(vec5*vec6)\n",
    "print(1/vec5)\n",
    "print(np.sqrt(vec6))"
   ]
  },
  {
   "cell_type": "code",
   "execution_count": 15,
   "metadata": {},
   "outputs": [
    {
     "name": "stdout",
     "output_type": "stream",
     "text": [
      "[[1 2 1]\n",
      " [4 5 9]\n",
      " [1 8 9]]\n",
      "\n",
      "[1 2 3]\n",
      "\n",
      "[ 8 41 44]\n"
     ]
    }
   ],
   "source": [
    "# we can do matrix multiplication\n",
    "print(mat)\n",
    "print('')\n",
    "print(vec)\n",
    "print()\n",
    "product = np.matmul(mat,vec)\n",
    "print(product)"
   ]
  },
  {
   "cell_type": "code",
   "execution_count": 16,
   "metadata": {},
   "outputs": [
    {
     "name": "stdout",
     "output_type": "stream",
     "text": [
      "[1. 2. 3.]\n",
      "\n",
      "[[ 0.5         0.18518519 -0.24074074]\n",
      " [ 0.5        -0.14814815  0.09259259]\n",
      " [-0.5         0.11111111  0.05555556]]\n"
     ]
    }
   ],
   "source": [
    "print(np.linalg.solve(mat,product))\n",
    "print('')\n",
    "print(np.linalg.inv(mat))"
   ]
  },
  {
   "cell_type": "code",
   "execution_count": 18,
   "metadata": {},
   "outputs": [
    {
     "name": "stdout",
     "output_type": "stream",
     "text": [
      "['blue' 'red' 'orange' 'purple' 'purple' 'orange' 'Red' '6']\n",
      "['6' 'Red' 'blue' 'orange' 'purple' 'red']\n"
     ]
    }
   ],
   "source": [
    "# we can find the unique values in an array\n",
    "vec7 = np.array(['blue','red','orange','purple','purple','orange','Red',6])\n",
    "print(vec7)\n",
    "print(np.unique(vec7))"
   ]
  },
  {
   "cell_type": "code",
   "execution_count": 19,
   "metadata": {},
   "outputs": [
    {
     "name": "stdout",
     "output_type": "stream",
     "text": [
      "[[0.37378375 0.54643303 0.83173697 0.57442019 0.04530177]\n",
      " [0.52699476 0.97451549 0.15291663 0.32216005 0.80140103]\n",
      " [0.42013681 0.662491   0.46912392 0.47723738 0.16043219]\n",
      " [0.15000766 0.93110941 0.18736583 0.13503357 0.68428438]\n",
      " [0.44106534 0.72567183 0.72881317 0.7879669  0.57556784]]\n",
      "\n",
      "[[ 0.29604451 -0.99932117  0.23155317  0.83745837  1.50994384]\n",
      " [-1.85635681 -1.29012069  0.92095488 -0.01979016  0.04812739]\n",
      " [ 0.06877472  0.15608366  1.17935264  1.18314537 -2.06142545]\n",
      " [-1.1631392  -0.25818279  0.00489131  2.06436235  1.2300535 ]\n",
      " [-0.41839117 -0.02567631 -0.78871946  0.12302715  0.74353665]\n",
      " [ 0.44003707 -0.63469386  0.39565933  0.27365235 -0.39506332]\n",
      " [-0.71212527 -0.37217352  1.44398927  0.44735779  0.82393001]\n",
      " [ 0.03699826  0.91771705  0.39929985  2.19162002 -0.702546  ]\n",
      " [ 1.05274678 -1.34521582  0.55336533  0.47935947  0.07190995]\n",
      " [ 0.08168703  0.59756657 -1.4045234   0.11120744 -2.60823864]]\n"
     ]
    }
   ],
   "source": [
    "# we can also use numpy to generate samples of a random variable\n",
    "rand_mat = np.random.rand(5,5) # uniform random variable\n",
    "print(rand_mat)\n",
    "rand_mat2 = np.random.randn(10,5) # standard normal random variable\n",
    "print('')\n",
    "print(rand_mat2)"
   ]
  },
  {
   "cell_type": "code",
   "execution_count": 20,
   "metadata": {},
   "outputs": [
    {
     "name": "stdout",
     "output_type": "stream",
     "text": [
      "0.5074388355403043\n",
      "0.9891214546191432\n"
     ]
    }
   ],
   "source": [
    "# we can also use numpy for statistical tools on arrays\n",
    "print(np.mean(rand_mat))\n",
    "print(np.std(rand_mat2))"
   ]
  },
  {
   "cell_type": "code",
   "execution_count": 21,
   "metadata": {},
   "outputs": [
    {
     "name": "stdout",
     "output_type": "stream",
     "text": [
      "0.04530177396635637\n",
      "2.1916200242044925\n"
     ]
    }
   ],
   "source": [
    "print(np.min(rand_mat))\n",
    "print(np.max(rand_mat2))"
   ]
  },
  {
   "cell_type": "code",
   "execution_count": null,
   "metadata": {},
   "outputs": [],
   "source": [
    "# break here for next video!"
   ]
  },
  {
   "cell_type": "code",
   "execution_count": 22,
   "metadata": {},
   "outputs": [
    {
     "name": "stdout",
     "output_type": "stream",
     "text": [
      "[-0.39576491 -0.54790645  0.51618791 -0.27085733  0.22835427  0.83802794\n",
      "  0.90002513 -0.41817633  0.47633226 -0.22890796 -1.40948806 -0.90889343\n",
      "  0.27369186 -0.54166042  0.21589238 -1.28889801  2.60590694  0.41381561\n",
      " -0.97990232]\n",
      "0.9000251331054896\n"
     ]
    }
   ],
   "source": [
    "# how do we access entries in a numpy vector\n",
    "rand_vec = np.random.randn(19)\n",
    "print(rand_vec)\n",
    "print(rand_vec[6])"
   ]
  },
  {
   "cell_type": "code",
   "execution_count": 23,
   "metadata": {},
   "outputs": [
    {
     "name": "stdout",
     "output_type": "stream",
     "text": [
      "[ 0.22835427  0.83802794  0.90002513 -0.41817633  0.47633226]\n"
     ]
    }
   ],
   "source": [
    "# we can access multiple entries at once using :\n",
    "print(rand_vec[4:9])"
   ]
  },
  {
   "cell_type": "code",
   "execution_count": 24,
   "metadata": {},
   "outputs": [
    {
     "name": "stdout",
     "output_type": "stream",
     "text": [
      "[ 0  3  6  9 12]\n",
      "[-0.39576491 -0.27085733  0.90002513 -0.22890796  0.27369186]\n"
     ]
    }
   ],
   "source": [
    "# we can also access multiple non-consecutive entries using np.arange\n",
    "print(np.arange(0,15,3))\n",
    "print(rand_vec[np.arange(0,15,3)])"
   ]
  },
  {
   "cell_type": "code",
   "execution_count": 25,
   "metadata": {},
   "outputs": [
    {
     "name": "stdout",
     "output_type": "stream",
     "text": [
      "[[0.37378375 0.54643303 0.83173697 0.57442019 0.04530177]\n",
      " [0.52699476 0.97451549 0.15291663 0.32216005 0.80140103]\n",
      " [0.42013681 0.662491   0.46912392 0.47723738 0.16043219]\n",
      " [0.15000766 0.93110941 0.18736583 0.13503357 0.68428438]\n",
      " [0.44106534 0.72567183 0.72881317 0.7879669  0.57556784]]\n",
      "0.15291663260806265\n",
      "0.15291663260806265\n"
     ]
    }
   ],
   "source": [
    "# what about matrices\n",
    "print(rand_mat)\n",
    "print(rand_mat[1][2])\n",
    "print(rand_mat[1,2])"
   ]
  },
  {
   "cell_type": "code",
   "execution_count": 26,
   "metadata": {},
   "outputs": [
    {
     "name": "stdout",
     "output_type": "stream",
     "text": [
      "[[0.54643303 0.83173697]\n",
      " [0.97451549 0.15291663]]\n"
     ]
    }
   ],
   "source": [
    "print(rand_mat[0:2,1:3])"
   ]
  },
  {
   "cell_type": "code",
   "execution_count": 27,
   "metadata": {},
   "outputs": [
    {
     "name": "stdout",
     "output_type": "stream",
     "text": [
      "[-0.39576491 -0.54790645  0.51618791 -0.27085733  0.22835427  0.83802794\n",
      "  0.90002513 -0.41817633  0.47633226 -0.22890796 -1.40948806 -0.90889343\n",
      "  0.27369186 -0.54166042  0.21589238 -1.28889801  2.60590694  0.41381561\n",
      " -0.97990232]\n",
      "\n",
      "[-0.39576491 -0.54790645  0.51618791  4.          4.          0.83802794\n",
      "  0.90002513 -0.41817633  0.47633226 -0.22890796 -1.40948806 -0.90889343\n",
      "  0.27369186 -0.54166042  0.21589238 -1.28889801  2.60590694  0.41381561\n",
      " -0.97990232]\n",
      "\n",
      "[-0.39576491 -0.54790645  0.51618791  1.          2.          0.83802794\n",
      "  0.90002513 -0.41817633  0.47633226 -0.22890796 -1.40948806 -0.90889343\n",
      "  0.27369186 -0.54166042  0.21589238 -1.28889801  2.60590694  0.41381561\n",
      " -0.97990232]\n"
     ]
    }
   ],
   "source": [
    "# let's change some values in an array!\n",
    "print(rand_vec)\n",
    "rand_vec[3:5] = 4\n",
    "print('')\n",
    "print(rand_vec)\n",
    "rand_vec[3:5] = [1,2]\n",
    "print('')\n",
    "print(rand_vec)"
   ]
  },
  {
   "cell_type": "code",
   "execution_count": 28,
   "metadata": {},
   "outputs": [
    {
     "name": "stdout",
     "output_type": "stream",
     "text": [
      "[[0.37378375 0.54643303 0.83173697 0.57442019 0.04530177]\n",
      " [0.52699476 0.97451549 0.15291663 0.32216005 0.80140103]\n",
      " [0.42013681 0.662491   0.46912392 0.47723738 0.16043219]\n",
      " [0.15000766 0.93110941 0.18736583 0.13503357 0.68428438]\n",
      " [0.44106534 0.72567183 0.72881317 0.7879669  0.57556784]]\n",
      "\n",
      "[[0.37378375 0.54643303 0.83173697 0.57442019 0.04530177]\n",
      " [0.52699476 0.97451549 0.15291663 0.         0.        ]\n",
      " [0.42013681 0.662491   0.46912392 0.         0.        ]\n",
      " [0.15000766 0.93110941 0.18736583 0.13503357 0.68428438]\n",
      " [0.44106534 0.72567183 0.72881317 0.7879669  0.57556784]]\n"
     ]
    }
   ],
   "source": [
    "print(rand_mat)\n",
    "rand_mat[1:3,3:5] = 0\n",
    "print('')\n",
    "print(rand_mat)"
   ]
  },
  {
   "cell_type": "raw",
   "metadata": {},
   "source": [
    "sub_mat = rand_mat[0:2,0:3]\n",
    "print(sub_mat)\n",
    "sub_mat[:] = 3\n",
    "print(sub_mat)\n"
   ]
  },
  {
   "cell_type": "code",
   "execution_count": 29,
   "metadata": {},
   "outputs": [
    {
     "name": "stdout",
     "output_type": "stream",
     "text": [
      "[[0.37378375 0.54643303 0.83173697]\n",
      " [0.52699476 0.97451549 0.15291663]]\n",
      "[[3. 3. 3.]\n",
      " [3. 3. 3.]]\n"
     ]
    }
   ],
   "source": [
    "sub_mat = rand_mat[0:2,0:3]\n",
    "print(sub_mat)\n",
    "sub_mat[:] = 3\n",
    "print(sub_mat)"
   ]
  },
  {
   "cell_type": "raw",
   "metadata": {},
   "source": [
    "sub_mat = rand_mat[0:2,0:3]\n",
    "print(sub_mat)\n",
    "sub_mat[:] = 3\n",
    "print(sub_mat)"
   ]
  },
  {
   "cell_type": "code",
   "execution_count": 30,
   "metadata": {},
   "outputs": [
    {
     "name": "stdout",
     "output_type": "stream",
     "text": [
      "[[3.         3.         3.         0.57442019 0.04530177]\n",
      " [3.         3.         3.         0.         0.        ]\n",
      " [0.42013681 0.662491   0.46912392 0.         0.        ]\n",
      " [0.15000766 0.93110941 0.18736583 0.13503357 0.68428438]\n",
      " [0.44106534 0.72567183 0.72881317 0.7879669  0.57556784]]\n"
     ]
    }
   ],
   "source": [
    "print(rand_mat)"
   ]
  },
  {
   "cell_type": "code",
   "execution_count": 31,
   "metadata": {},
   "outputs": [
    {
     "name": "stdout",
     "output_type": "stream",
     "text": [
      "[[99. 99. 99.]\n",
      " [99. 99. 99.]]\n",
      "[[3.         3.         3.         0.57442019 0.04530177]\n",
      " [3.         3.         3.         0.         0.        ]\n",
      " [0.42013681 0.662491   0.46912392 0.         0.        ]\n",
      " [0.15000766 0.93110941 0.18736583 0.13503357 0.68428438]\n",
      " [0.44106534 0.72567183 0.72881317 0.7879669  0.57556784]]\n"
     ]
    }
   ],
   "source": [
    "sub_mat2 = rand_mat[0:2,0:3].copy()\n",
    "sub_mat2[:] = 99\n",
    "print(sub_mat2)\n",
    "print(rand_mat)"
   ]
  },
  {
   "cell_type": "code",
   "execution_count": null,
   "metadata": {},
   "outputs": [],
   "source": [
    "# break here for next video"
   ]
  },
  {
   "cell_type": "code",
   "execution_count": 32,
   "metadata": {},
   "outputs": [
    {
     "name": "stdout",
     "output_type": "stream",
     "text": [
      "[ 0.52629321 -0.00637952  0.65357611  0.09829406  1.6950902  -0.94988915\n",
      " -0.4853943  -1.72862927 -0.45000071  0.48136838  0.10378655 -0.97919705\n",
      " -1.87154317 -0.49366721 -0.71662608]\n",
      "[ True False  True  True  True False False False False  True  True False\n",
      " False False False]\n",
      "[0.52629321 0.65357611 0.09829406 1.6950902  0.48136838 0.10378655]\n"
     ]
    }
   ],
   "source": [
    "# we can also access entries with logicals\n",
    "rand_vec = np.random.randn(15)\n",
    "\n",
    "print(rand_vec)\n",
    "print(rand_vec>0)\n",
    "print(rand_vec[rand_vec>0])"
   ]
  },
  {
   "cell_type": "code",
   "execution_count": 33,
   "metadata": {},
   "outputs": [
    {
     "name": "stdout",
     "output_type": "stream",
     "text": [
      "[[ 0.29604451 -0.99932117  0.23155317  0.83745837  1.50994384]\n",
      " [-1.85635681 -1.29012069  0.92095488 -0.01979016  0.04812739]\n",
      " [ 0.06877472  0.15608366  1.17935264  1.18314537 -2.06142545]\n",
      " [-1.1631392  -0.25818279  0.00489131  2.06436235  1.2300535 ]\n",
      " [-0.41839117 -0.02567631 -0.78871946  0.12302715  0.74353665]\n",
      " [ 0.44003707 -0.63469386  0.39565933  0.27365235 -0.39506332]\n",
      " [-0.71212527 -0.37217352  1.44398927  0.44735779  0.82393001]\n",
      " [ 0.03699826  0.91771705  0.39929985  2.19162002 -0.702546  ]\n",
      " [ 1.05274678 -1.34521582  0.55336533  0.47935947  0.07190995]\n",
      " [ 0.08168703  0.59756657 -1.4045234   0.11120744 -2.60823864]]\n",
      "[0.29604451 0.23155317 0.83745837 1.50994384 0.92095488 0.04812739\n",
      " 0.06877472 0.15608366 1.17935264 1.18314537 0.00489131 2.06436235\n",
      " 1.2300535  0.12302715 0.74353665 0.44003707 0.39565933 0.27365235\n",
      " 1.44398927 0.44735779 0.82393001 0.03699826 0.91771705 0.39929985\n",
      " 2.19162002 1.05274678 0.55336533 0.47935947 0.07190995 0.08168703\n",
      " 0.59756657 0.11120744]\n"
     ]
    }
   ],
   "source": [
    "print(rand_mat2)\n",
    "print(rand_mat2[rand_mat2>0])"
   ]
  },
  {
   "cell_type": "code",
   "execution_count": 34,
   "metadata": {},
   "outputs": [
    {
     "name": "stdout",
     "output_type": "stream",
     "text": [
      "[ 0.52629321 -0.00637952  0.65357611  0.09829406  1.6950902  -0.94988915\n",
      " -0.4853943  -1.72862927 -0.45000071  0.48136838  0.10378655 -0.97919705\n",
      " -1.87154317 -0.49366721 -0.71662608]\n",
      "\n",
      "[-5.         -0.00637952 -5.          0.09829406 -5.         -0.94988915\n",
      " -0.4853943  -1.72862927 -0.45000071  0.48136838  0.10378655 -0.97919705\n",
      " -1.87154317 -0.49366721 -0.71662608]\n"
     ]
    }
   ],
   "source": [
    "\n",
    "print(rand_vec)\n",
    "print('')\n",
    "rand_vec[rand_vec>0.5] = -5\n",
    "print(rand_vec)"
   ]
  },
  {
   "cell_type": "code",
   "execution_count": 35,
   "metadata": {},
   "outputs": [],
   "source": [
    "# let's save some arrays on the disk for use later!\n",
    "np.save('saved_file_name',rand_mat2)\n"
   ]
  },
  {
   "cell_type": "code",
   "execution_count": 36,
   "metadata": {},
   "outputs": [],
   "source": [
    "np.savez('zipped_file_name',rand_mat=rand_mat,rand_mat2=rand_mat2)"
   ]
  },
  {
   "cell_type": "code",
   "execution_count": 37,
   "metadata": {},
   "outputs": [
    {
     "name": "stdout",
     "output_type": "stream",
     "text": [
      "[[ 0.29604451 -0.99932117  0.23155317  0.83745837  1.50994384]\n",
      " [-1.85635681 -1.29012069  0.92095488 -0.01979016  0.04812739]\n",
      " [ 0.06877472  0.15608366  1.17935264  1.18314537 -2.06142545]\n",
      " [-1.1631392  -0.25818279  0.00489131  2.06436235  1.2300535 ]\n",
      " [-0.41839117 -0.02567631 -0.78871946  0.12302715  0.74353665]\n",
      " [ 0.44003707 -0.63469386  0.39565933  0.27365235 -0.39506332]\n",
      " [-0.71212527 -0.37217352  1.44398927  0.44735779  0.82393001]\n",
      " [ 0.03699826  0.91771705  0.39929985  2.19162002 -0.702546  ]\n",
      " [ 1.05274678 -1.34521582  0.55336533  0.47935947  0.07190995]\n",
      " [ 0.08168703  0.59756657 -1.4045234   0.11120744 -2.60823864]]\n",
      "\n",
      "<numpy.lib.npyio.NpzFile object at 0x7fdd1b5a0510>\n"
     ]
    }
   ],
   "source": [
    "# now let's load it\n",
    "loaded_vec = np.load('saved_file_name.npy')\n",
    "loaded_zip = np.load('zipped_file_name.npz')\n",
    "\n",
    "print(loaded_vec)\n",
    "print('')\n",
    "print(loaded_zip)"
   ]
  },
  {
   "cell_type": "code",
   "execution_count": 38,
   "metadata": {},
   "outputs": [
    {
     "name": "stdout",
     "output_type": "stream",
     "text": [
      "[[3.         3.         3.         0.57442019 0.04530177]\n",
      " [3.         3.         3.         0.         0.        ]\n",
      " [0.42013681 0.662491   0.46912392 0.         0.        ]\n",
      " [0.15000766 0.93110941 0.18736583 0.13503357 0.68428438]\n",
      " [0.44106534 0.72567183 0.72881317 0.7879669  0.57556784]]\n",
      "\n",
      "[[ 0.29604451 -0.99932117  0.23155317  0.83745837  1.50994384]\n",
      " [-1.85635681 -1.29012069  0.92095488 -0.01979016  0.04812739]\n",
      " [ 0.06877472  0.15608366  1.17935264  1.18314537 -2.06142545]\n",
      " [-1.1631392  -0.25818279  0.00489131  2.06436235  1.2300535 ]\n",
      " [-0.41839117 -0.02567631 -0.78871946  0.12302715  0.74353665]\n",
      " [ 0.44003707 -0.63469386  0.39565933  0.27365235 -0.39506332]\n",
      " [-0.71212527 -0.37217352  1.44398927  0.44735779  0.82393001]\n",
      " [ 0.03699826  0.91771705  0.39929985  2.19162002 -0.702546  ]\n",
      " [ 1.05274678 -1.34521582  0.55336533  0.47935947  0.07190995]\n",
      " [ 0.08168703  0.59756657 -1.4045234   0.11120744 -2.60823864]]\n",
      "[[3.         3.         3.         0.57442019 0.04530177]\n",
      " [3.         3.         3.         0.         0.        ]\n",
      " [0.42013681 0.662491   0.46912392 0.         0.        ]\n",
      " [0.15000766 0.93110941 0.18736583 0.13503357 0.68428438]\n",
      " [0.44106534 0.72567183 0.72881317 0.7879669  0.57556784]]\n"
     ]
    }
   ],
   "source": [
    "print(loaded_zip['rand_mat'])\n",
    "print('')\n",
    "print(loaded_zip['rand_mat2'])\n",
    "\n",
    "new_array  = loaded_zip['rand_mat']\n",
    "print(new_array)"
   ]
  },
  {
   "cell_type": "code",
   "execution_count": 39,
   "metadata": {},
   "outputs": [
    {
     "name": "stdout",
     "output_type": "stream",
     "text": [
      "[[3.         3.         3.         0.57442019 0.04530177]\n",
      " [3.         3.         3.         0.         0.        ]\n",
      " [0.42013681 0.662491   0.46912392 0.         0.        ]\n",
      " [0.15000766 0.93110941 0.18736583 0.13503357 0.68428438]\n",
      " [0.44106534 0.72567183 0.72881317 0.7879669  0.57556784]]\n",
      "\n",
      "[[3.         3.         3.         0.57442019 0.04530177]\n",
      " [3.         3.         3.         0.         0.        ]\n",
      " [0.42013681 0.662491   0.46912392 0.         0.        ]\n",
      " [0.15000766 0.93110941 0.18736583 0.13503357 0.68428438]\n",
      " [0.44106534 0.72567183 0.72881317 0.7879669  0.57556784]]\n"
     ]
    }
   ],
   "source": [
    "# we can also save/load as text files...but only single variables\n",
    "np.savetxt('text_file_name.txt',rand_mat,delimiter=',')\n",
    "rand_mat_txt = np.loadtxt('text_file_name.txt',delimiter=',')\n",
    "print(rand_mat)\n",
    "print('')\n",
    "print(rand_mat_txt)"
   ]
  }
 ],
 "metadata": {
  "kernelspec": {
   "display_name": "Python 3",
   "language": "python",
   "name": "python3"
  },
  "language_info": {
   "codemirror_mode": {
    "name": "ipython",
    "version": 3
   },
   "file_extension": ".py",
   "mimetype": "text/x-python",
   "name": "python",
   "nbconvert_exporter": "python",
   "pygments_lexer": "ipython3",
   "version": "3.7.7"
  }
 },
 "nbformat": 4,
 "nbformat_minor": 4
}
