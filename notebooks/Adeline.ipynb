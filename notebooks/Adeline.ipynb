{
 "cells": [
  {
   "cell_type": "code",
   "execution_count": 1,
   "metadata": {},
   "outputs": [],
   "source": [
    "import numpy as np\n",
    "import pandas as pd"
   ]
  },
  {
   "cell_type": "code",
   "execution_count": 3,
   "metadata": {},
   "outputs": [],
   "source": [
    "class AdelineGD(object):\n",
    "    \"\"\"\n",
    "      ADAptive LInear NEuron classifier.\n",
    "      \n",
    "      Parameters\n",
    "      ----------\n",
    "      eta: float\n",
    "        Learning rate : between 0.0 and 0.1\n",
    "      n_iter : int\n",
    "        Passes over the training dataset\n",
    "      random_state : int\n",
    "        Random number generator seed for random weight initialization\n",
    "      \n",
    "      Attributes\n",
    "      ----------\n",
    "      w_ : 1d-array\n",
    "        Weights after fitting\n",
    "      cost_ : list\n",
    "        Sum-of-squares cost function value in each epoch\n",
    "        \n",
    "    \"\"\"\n",
    "    \n",
    "    def __init__(self, eta=0.01, n_iter=50, random_state=1):\n",
    "        self.eta = eta\n",
    "        self.n_iter = n_iter\n",
    "        self.random_state = random_state\n",
    "        \n",
    "    def fit(self, X, y):\n",
    "        \"\"\"\n",
    "             Fit training data.\n",
    "             \n",
    "             Parameters\n",
    "             ----------\n",
    "             X : {array-like}, shape = [n_examples, n_features]\n",
    "                 Training vectors, where n_examples\n",
    "                 is the number of examples and\n",
    "                 n_feature is the number of features.\n",
    "             y : {array-like}, shape = [n_examples]\n",
    "                 Target values.\n",
    "             \n",
    "             Returns\n",
    "             -------\n",
    "             self : Object\n",
    "             \n",
    "        \"\"\"\n",
    "        rgen = np.random.RandomState(self.random_state)\n",
    "        self.w_ = rgen.normal(loc=0.0, scale=0.01, size=1 + X.shape[1])\n",
    "        self.cost_ = []\n",
    "        \n",
    "        for i in range(self.n_iter):\n",
    "            net_input = self.net_input(x)\n",
    "            output = self.activation(net_input)\n",
    "            errors = (y - output)\n",
    "            self.w_[1:] += self.eta * X.T.dot(errors)\n",
    "            self.w_[0] += self.eta * errors.sum()\n",
    "            cost = (errors ** 2).sum() / 2.0\n",
    "            \n",
    "    "
   ]
  },
  {
   "cell_type": "code",
   "execution_count": null,
   "metadata": {},
   "outputs": [],
   "source": []
  }
 ],
 "metadata": {
  "kernelspec": {
   "display_name": "Python 3",
   "language": "python",
   "name": "python3"
  },
  "language_info": {
   "codemirror_mode": {
    "name": "ipython",
    "version": 3
   },
   "file_extension": ".py",
   "mimetype": "text/x-python",
   "name": "python",
   "nbconvert_exporter": "python",
   "pygments_lexer": "ipython3",
   "version": "3.7.7"
  }
 },
 "nbformat": 4,
 "nbformat_minor": 4
}
