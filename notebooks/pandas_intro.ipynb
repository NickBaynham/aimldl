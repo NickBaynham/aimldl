{
 "cells": [
  {
   "cell_type": "code",
   "execution_count": 1,
   "metadata": {},
   "outputs": [],
   "source": [
    "import numpy as np\n",
    "import pandas as pd"
   ]
  },
  {
   "cell_type": "code",
   "execution_count": 8,
   "metadata": {},
   "outputs": [
    {
     "name": "stdout",
     "output_type": "stream",
     "text": [
      "0     5\n",
      "1     4\n",
      "2     6\n",
      "3     1\n",
      "4     1\n",
      "5     7\n",
      "6    99\n",
      "dtype: int64\n"
     ]
    }
   ],
   "source": [
    "my_list = [5, 4, 6, 1, 1, 7, 99]\n",
    "my_array = np.array(my_list)\n",
    "my_series = pd.Series(data = my_list)\n",
    "print(my_series)"
   ]
  },
  {
   "cell_type": "code",
   "execution_count": 9,
   "metadata": {},
   "outputs": [
    {
     "name": "stdout",
     "output_type": "stream",
     "text": [
      "0     5\n",
      "1     4\n",
      "2     6\n",
      "3     1\n",
      "4     1\n",
      "5     7\n",
      "6    99\n",
      "dtype: int64\n"
     ]
    }
   ],
   "source": [
    "my_series_2 = pd.Series(data = my_array)\n",
    "print(my_series_2)"
   ]
  },
  {
   "cell_type": "code",
   "execution_count": 10,
   "metadata": {},
   "outputs": [
    {
     "name": "stdout",
     "output_type": "stream",
     "text": [
      "6\n"
     ]
    }
   ],
   "source": [
    "print(my_series[2])"
   ]
  },
  {
   "cell_type": "code",
   "execution_count": 15,
   "metadata": {},
   "outputs": [
    {
     "name": "stdout",
     "output_type": "stream",
     "text": [
      "['first', 'second', 'third', 'fourth', 'fifth', 'sixth', 'seventh']\n",
      "first       5\n",
      "second      4\n",
      "third       6\n",
      "fourth      1\n",
      "fifth       1\n",
      "sixth       7\n",
      "seventh    99\n",
      "dtype: int64\n"
     ]
    }
   ],
   "source": [
    "my_labels = ['first', 'second', 'third', 'fourth', 'fifth', 'sixth', 'seventh']\n",
    "print(my_labels)\n",
    "my_series_3 = pd.Series(data = my_list, index = my_labels)\n",
    "print(my_series_3)"
   ]
  },
  {
   "cell_type": "code",
   "execution_count": 17,
   "metadata": {},
   "outputs": [
    {
     "name": "stdout",
     "output_type": "stream",
     "text": [
      "1\n"
     ]
    }
   ],
   "source": [
    "print(my_series_3['fourth'])"
   ]
  },
  {
   "cell_type": "code",
   "execution_count": null,
   "metadata": {},
   "outputs": [],
   "source": [
    "pd.DataFrame"
   ]
  }
 ],
 "metadata": {
  "kernelspec": {
   "display_name": "Python 3",
   "language": "python",
   "name": "python3"
  },
  "language_info": {
   "codemirror_mode": {
    "name": "ipython",
    "version": 3
   },
   "file_extension": ".py",
   "mimetype": "text/x-python",
   "name": "python",
   "nbconvert_exporter": "python",
   "pygments_lexer": "ipython3",
   "version": "3.7.7"
  }
 },
 "nbformat": 4,
 "nbformat_minor": 4
}
