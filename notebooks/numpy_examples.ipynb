{
 "cells": [
  {
   "cell_type": "code",
   "execution_count": 30,
   "metadata": {},
   "outputs": [],
   "source": [
    "import numpy as np"
   ]
  },
  {
   "cell_type": "code",
   "execution_count": 31,
   "metadata": {},
   "outputs": [
    {
     "name": "stdout",
     "output_type": "stream",
     "text": [
      "3.141592653589793\n",
      "-1.0\n",
      "1.1\n",
      "5.2\n"
     ]
    }
   ],
   "source": [
    "print(np.pi)\n",
    "print(np.cos(np.pi))\n",
    "print(np.sqrt(1.21))\n",
    "print(np.log(np.exp(5.2)))"
   ]
  },
  {
   "cell_type": "code",
   "execution_count": 32,
   "metadata": {},
   "outputs": [
    {
     "name": "stdout",
     "output_type": "stream",
     "text": [
      "[1 2 3]\n",
      "[[1 2 1]\n",
      " [4 5 9]\n",
      " [1 8 9]]\n",
      "[[1 4 1]\n",
      " [2 5 8]\n",
      " [1 9 9]]\n"
     ]
    }
   ],
   "source": [
    "vec = np.array([1, 2, 3])\n",
    "print(vec)\n",
    "mat = np.array([[1, 2, 1], [4, 5, 9], [1, 8, 9]])\n",
    "print(mat)\n",
    "print(mat.T)"
   ]
  },
  {
   "cell_type": "code",
   "execution_count": 33,
   "metadata": {},
   "outputs": [
    {
     "name": "stdout",
     "output_type": "stream",
     "text": [
      "[ 0  1  2  3  4  5  6  7  8  9 10 11 12 13 14]\n"
     ]
    }
   ],
   "source": [
    "vec2 = np.arange(0,15)\n",
    "print(vec2)"
   ]
  },
  {
   "cell_type": "code",
   "execution_count": 34,
   "metadata": {},
   "outputs": [
    {
     "name": "stdout",
     "output_type": "stream",
     "text": [
      "[ 3  9 15]\n"
     ]
    }
   ],
   "source": [
    "vec3 = np.arange(3, 21, 6)\n",
    "print(vec3)"
   ]
  },
  {
   "cell_type": "code",
   "execution_count": 35,
   "metadata": {},
   "outputs": [
    {
     "name": "stdout",
     "output_type": "stream",
     "text": [
      "[0.         0.55555556 1.11111111 1.66666667 2.22222222 2.77777778\n",
      " 3.33333333 3.88888889 4.44444444 5.        ]\n"
     ]
    }
   ],
   "source": [
    "vec4 = np.linspace(0, 5, 10)\n",
    "print(vec4)"
   ]
  },
  {
   "cell_type": "code",
   "execution_count": 36,
   "metadata": {},
   "outputs": [
    {
     "name": "stdout",
     "output_type": "stream",
     "text": [
      "[[0.         0.55555556]\n",
      " [1.11111111 1.66666667]\n",
      " [2.22222222 2.77777778]\n",
      " [3.33333333 3.88888889]\n",
      " [4.44444444 5.        ]]\n"
     ]
    }
   ],
   "source": [
    "print(vec4.reshape(5, 2))"
   ]
  },
  {
   "cell_type": "code",
   "execution_count": 37,
   "metadata": {},
   "outputs": [
    {
     "name": "stdout",
     "output_type": "stream",
     "text": [
      "[[0.76053106 0.25490324 0.3693574  0.72122886 0.66715363]\n",
      " [0.58199266 0.71010938 0.84576955 0.34397651 0.89028327]\n",
      " [0.75420012 0.63741241 0.35709262 0.0969524  0.72296819]\n",
      " [0.38850257 0.38661374 0.43500235 0.3279874  0.72003853]\n",
      " [0.27726224 0.82142896 0.62826437 0.94215625 0.91682189]]\n"
     ]
    }
   ],
   "source": [
    "rand_mat = np.random.rand(5,5)\n",
    "print(rand_mat)"
   ]
  },
  {
   "cell_type": "code",
   "execution_count": 38,
   "metadata": {},
   "outputs": [
    {
     "name": "stdout",
     "output_type": "stream",
     "text": [
      "[[ 0.40042921 -1.08622106 -1.66799137  0.01503144 -1.75928687]\n",
      " [-2.14685681  0.5772225  -0.61442201  0.20828418  1.04213175]\n",
      " [ 1.20928466 -1.2494457  -0.55420806 -0.01342969 -0.25117138]\n",
      " [-0.32698504 -0.72525198 -2.2113319   0.412732    0.22170576]\n",
      " [-1.76818167  0.12086385 -0.3587387   0.27825363  0.67020408]\n",
      " [-0.73695126  1.14304578 -1.86468352  1.08102033 -0.12538375]\n",
      " [-0.51864225  1.10885429 -0.22837289 -0.7176245   1.12932065]\n",
      " [ 0.28208676  1.42180097 -0.38022945  0.98470627  0.01263389]\n",
      " [ 0.65275889  1.62901515  1.31925366 -0.66145297 -0.86664695]\n",
      " [ 0.98294732  1.22239719 -0.13866876 -0.42986292  0.81363253]]\n"
     ]
    }
   ],
   "source": [
    "rand_mat2 = np.random.randn(10,5)\n",
    "print(rand_mat2)"
   ]
  },
  {
   "cell_type": "code",
   "execution_count": 39,
   "metadata": {},
   "outputs": [
    {
     "name": "stdout",
     "output_type": "stream",
     "text": [
      "0.5823203847367634\n",
      "0.23339221827196116\n"
     ]
    }
   ],
   "source": [
    "print(np.mean(rand_mat))\n",
    "print(np.std(rand_mat))"
   ]
  },
  {
   "cell_type": "code",
   "execution_count": 40,
   "metadata": {},
   "outputs": [
    {
     "name": "stdout",
     "output_type": "stream",
     "text": [
      "-2.2113319049289997\n",
      "1.629015150380305\n"
     ]
    }
   ],
   "source": [
    "print(np.min(rand_mat2))\n",
    "print(np.max(rand_mat2))"
   ]
  },
  {
   "cell_type": "code",
   "execution_count": 41,
   "metadata": {},
   "outputs": [
    {
     "name": "stdout",
     "output_type": "stream",
     "text": [
      "[10. 15. 20.]\n"
     ]
    }
   ],
   "source": [
    "vec=np.linspace(10,20,3)\n",
    "print(vec)"
   ]
  },
  {
   "cell_type": "code",
   "execution_count": 42,
   "metadata": {},
   "outputs": [
    {
     "name": "stdout",
     "output_type": "stream",
     "text": [
      "[[ 0  1  2]\n",
      " [ 3  4  5]\n",
      " [ 6  7  8]\n",
      " [ 9 10 11]]\n",
      "[ 0  1  2  3  4  5  6  7  8  9 10 11]\n"
     ]
    }
   ],
   "source": [
    "vec1 = np.arange(0, 12)\n",
    "vec2 = vec1.reshape(4, 3)\n",
    "print(vec2)\n",
    "print(vec1)"
   ]
  },
  {
   "cell_type": "code",
   "execution_count": 43,
   "metadata": {},
   "outputs": [
    {
     "data": {
      "text/plain": [
       "1.2"
      ]
     },
     "execution_count": 43,
     "metadata": {},
     "output_type": "execute_result"
    }
   ],
   "source": [
    "np.sqrt(1.44)"
   ]
  },
  {
   "cell_type": "code",
   "execution_count": 44,
   "metadata": {},
   "outputs": [
    {
     "data": {
      "text/plain": [
       "-1.0"
      ]
     },
     "execution_count": 44,
     "metadata": {},
     "output_type": "execute_result"
    }
   ],
   "source": [
    "np.cos(np.pi)"
   ]
  },
  {
   "cell_type": "code",
   "execution_count": 45,
   "metadata": {},
   "outputs": [
    {
     "data": {
      "text/plain": [
       "1.791759469228055"
      ]
     },
     "execution_count": 45,
     "metadata": {},
     "output_type": "execute_result"
    }
   ],
   "source": [
    "np.log(6)"
   ]
  },
  {
   "cell_type": "code",
   "execution_count": 46,
   "metadata": {},
   "outputs": [
    {
     "data": {
      "text/plain": [
       "54.598150033144236"
      ]
     },
     "execution_count": 46,
     "metadata": {},
     "output_type": "execute_result"
    }
   ],
   "source": [
    "np.exp(4)"
   ]
  },
  {
   "cell_type": "code",
   "execution_count": 47,
   "metadata": {},
   "outputs": [
    {
     "name": "stdout",
     "output_type": "stream",
     "text": [
      "[ 4  9 14 19]\n"
     ]
    }
   ],
   "source": [
    "arr = np.arange(4, 20, 5)\n",
    "print(arr)"
   ]
  },
  {
   "cell_type": "code",
   "execution_count": 48,
   "metadata": {},
   "outputs": [
    {
     "name": "stdout",
     "output_type": "stream",
     "text": [
      "[[0.76053106 0.25490324 0.3693574  0.72122886 0.66715363]\n",
      " [0.58199266 0.71010938 0.84576955 0.34397651 0.89028327]\n",
      " [0.75420012 0.63741241 0.35709262 0.0969524  0.72296819]\n",
      " [0.38850257 0.38661374 0.43500235 0.3279874  0.72003853]\n",
      " [0.27726224 0.82142896 0.62826437 0.94215625 0.91682189]]\n"
     ]
    }
   ],
   "source": [
    "print(rand_mat)"
   ]
  },
  {
   "cell_type": "code",
   "execution_count": 49,
   "metadata": {},
   "outputs": [
    {
     "name": "stdout",
     "output_type": "stream",
     "text": [
      "0.8457695544609282\n"
     ]
    }
   ],
   "source": [
    "print(rand_mat[1][2])"
   ]
  },
  {
   "cell_type": "code",
   "execution_count": 50,
   "metadata": {},
   "outputs": [
    {
     "name": "stdout",
     "output_type": "stream",
     "text": [
      "0.8457695544609282\n"
     ]
    }
   ],
   "source": [
    "print(rand_mat[1,2])"
   ]
  },
  {
   "cell_type": "code",
   "execution_count": 51,
   "metadata": {},
   "outputs": [
    {
     "name": "stdout",
     "output_type": "stream",
     "text": [
      "[[0.25490324 0.3693574 ]\n",
      " [0.71010938 0.84576955]]\n"
     ]
    }
   ],
   "source": [
    "print(rand_mat[0:2,1:3])"
   ]
  },
  {
   "cell_type": "code",
   "execution_count": 53,
   "metadata": {},
   "outputs": [
    {
     "name": "stdout",
     "output_type": "stream",
     "text": [
      "[0.76053106 0.25490324 0.3693574  0.72122886 0.66715363 0.58199266\n",
      " 0.71010938 0.84576955 0.34397651 0.89028327 0.75420012 0.63741241\n",
      " 0.35709262 0.0969524  0.72296819 0.38850257 0.38661374 0.43500235\n",
      " 0.3279874  0.72003853 0.27726224 0.82142896 0.62826437 0.94215625\n",
      " 0.91682189]\n"
     ]
    }
   ],
   "source": [
    "print(rand_mat[rand_mat > 0])"
   ]
  },
  {
   "cell_type": "code",
   "execution_count": 54,
   "metadata": {},
   "outputs": [
    {
     "name": "stdout",
     "output_type": "stream",
     "text": [
      "[[0.76053106 0.25490324 0.3693574  0.72122886 0.66715363]\n",
      " [0.58199266 0.71010938 0.84576955 0.34397651 0.89028327]\n",
      " [0.75420012 0.63741241 0.35709262 0.0969524  0.72296819]\n",
      " [0.38850257 0.38661374 0.43500235 0.3279874  0.72003853]\n",
      " [0.27726224 0.82142896 0.62826437 0.94215625 0.91682189]]\n"
     ]
    }
   ],
   "source": [
    "print(rand_mat)"
   ]
  },
  {
   "cell_type": "code",
   "execution_count": 55,
   "metadata": {},
   "outputs": [],
   "source": [
    "np.save('my_saved_array', rand_mat)"
   ]
  },
  {
   "cell_type": "code",
   "execution_count": 61,
   "metadata": {},
   "outputs": [],
   "source": [
    "np.savez('my_zipped_array', rand_mat = rand_mat, rand_mat2 = rand_mat)"
   ]
  },
  {
   "cell_type": "code",
   "execution_count": 57,
   "metadata": {},
   "outputs": [],
   "source": [
    "loaded_vec = np.load('my_saved_array.npy')"
   ]
  },
  {
   "cell_type": "code",
   "execution_count": 58,
   "metadata": {},
   "outputs": [],
   "source": [
    "loaded_zvec = np.load('my_zipped_array.npz')"
   ]
  },
  {
   "cell_type": "code",
   "execution_count": 59,
   "metadata": {},
   "outputs": [
    {
     "name": "stdout",
     "output_type": "stream",
     "text": [
      "[[0.76053106 0.25490324 0.3693574  0.72122886 0.66715363]\n",
      " [0.58199266 0.71010938 0.84576955 0.34397651 0.89028327]\n",
      " [0.75420012 0.63741241 0.35709262 0.0969524  0.72296819]\n",
      " [0.38850257 0.38661374 0.43500235 0.3279874  0.72003853]\n",
      " [0.27726224 0.82142896 0.62826437 0.94215625 0.91682189]]\n"
     ]
    }
   ],
   "source": [
    "print(loaded_vec)"
   ]
  },
  {
   "cell_type": "code",
   "execution_count": 62,
   "metadata": {},
   "outputs": [
    {
     "name": "stdout",
     "output_type": "stream",
     "text": [
      "<numpy.lib.npyio.NpzFile object at 0x7fc23a5b2f10>\n"
     ]
    }
   ],
   "source": [
    "print(loaded_zvec)"
   ]
  },
  {
   "cell_type": "code",
   "execution_count": 64,
   "metadata": {},
   "outputs": [
    {
     "name": "stdout",
     "output_type": "stream",
     "text": [
      "[[0.76053106 0.25490324 0.3693574  0.72122886 0.66715363]\n",
      " [0.58199266 0.71010938 0.84576955 0.34397651 0.89028327]\n",
      " [0.75420012 0.63741241 0.35709262 0.0969524  0.72296819]\n",
      " [0.38850257 0.38661374 0.43500235 0.3279874  0.72003853]\n",
      " [0.27726224 0.82142896 0.62826437 0.94215625 0.91682189]]\n"
     ]
    }
   ],
   "source": [
    "print(loaded_zvec['rand_mat'])"
   ]
  },
  {
   "cell_type": "code",
   "execution_count": 65,
   "metadata": {},
   "outputs": [
    {
     "name": "stdout",
     "output_type": "stream",
     "text": [
      "[[0.76053106 0.25490324 0.3693574  0.72122886 0.66715363]\n",
      " [0.58199266 0.71010938 0.84576955 0.34397651 0.89028327]\n",
      " [0.75420012 0.63741241 0.35709262 0.0969524  0.72296819]\n",
      " [0.38850257 0.38661374 0.43500235 0.3279874  0.72003853]\n",
      " [0.27726224 0.82142896 0.62826437 0.94215625 0.91682189]]\n"
     ]
    }
   ],
   "source": [
    "print(loaded_zvec['rand_mat2'])"
   ]
  },
  {
   "cell_type": "code",
   "execution_count": 72,
   "metadata": {},
   "outputs": [
    {
     "name": "stdout",
     "output_type": "stream",
     "text": [
      "[[0.76053106 0.25490324 0.3693574  0.72122886 0.66715363]\n",
      " [0.58199266 0.71010938 0.84576955 0.34397651 0.89028327]\n",
      " [0.75420012 0.63741241 0.35709262 0.0969524  0.72296819]\n",
      " [0.38850257 0.38661374 0.43500235 0.3279874  0.72003853]\n",
      " [0.27726224 0.82142896 0.62826437 0.94215625 0.91682189]]\n"
     ]
    }
   ],
   "source": [
    "np.savetxt('my_text.txt', rand_mat, delimiter = ',')\n",
    "rand_mat_text = np.loadtxt('my_text.txt', delimiter = ',')\n",
    "print(rand_mat_text)"
   ]
  },
  {
   "cell_type": "code",
   "execution_count": 73,
   "metadata": {},
   "outputs": [],
   "source": [
    "loaded_array = np.load('my_saved_array.npy')"
   ]
  },
  {
   "cell_type": "code",
   "execution_count": 74,
   "metadata": {},
   "outputs": [
    {
     "name": "stdout",
     "output_type": "stream",
     "text": [
      "[[0.76053106 0.25490324 0.3693574  0.72122886 0.66715363]\n",
      " [0.58199266 0.71010938 0.84576955 0.34397651 0.89028327]\n",
      " [0.75420012 0.63741241 0.35709262 0.0969524  0.72296819]\n",
      " [0.38850257 0.38661374 0.43500235 0.3279874  0.72003853]\n",
      " [0.27726224 0.82142896 0.62826437 0.94215625 0.91682189]]\n"
     ]
    }
   ],
   "source": [
    "print(loaded_array)"
   ]
  },
  {
   "cell_type": "code",
   "execution_count": null,
   "metadata": {},
   "outputs": [],
   "source": []
  }
 ],
 "metadata": {
  "kernelspec": {
   "display_name": "Python 3",
   "language": "python",
   "name": "python3"
  },
  "language_info": {
   "codemirror_mode": {
    "name": "ipython",
    "version": 3
   },
   "file_extension": ".py",
   "mimetype": "text/x-python",
   "name": "python",
   "nbconvert_exporter": "python",
   "pygments_lexer": "ipython3",
   "version": "3.7.7"
  }
 },
 "nbformat": 4,
 "nbformat_minor": 4
}
